{
  "nbformat": 4,
  "nbformat_minor": 0,
  "metadata": {
    "colab": {
      "provenance": []
    },
    "kernelspec": {
      "name": "python3",
      "display_name": "Python 3"
    },
    "language_info": {
      "name": "python"
    }
  },
  "cells": [
    {
      "cell_type": "markdown",
      "source": [
        "# Personal Assistant\n"
      ],
      "metadata": {
        "id": "tlHKdP5_OrGg"
      }
    },
    {
      "cell_type": "code",
      "source": [
        "!pip install -qU openai\n",
        "!pip install -qU langchain\n",
        "!pip install -qU huggingface_hub\n",
        "!pip install tiktoken"
      ],
      "metadata": {
        "colab": {
          "base_uri": "https://localhost:8080/"
        },
        "id": "C-Ld6fZgPDGd",
        "outputId": "89f13c97-f848-48c9-cdf4-7b2e2f0b695b"
      },
      "execution_count": 1,
      "outputs": [
        {
          "output_type": "stream",
          "name": "stdout",
          "text": [
            "\u001b[2K     \u001b[90m━━━━━━━━━━━━━━━━━━━━━━━━━━━━━━━━━━━━━━━━\u001b[0m \u001b[32m73.6/73.6 kB\u001b[0m \u001b[31m4.0 MB/s\u001b[0m eta \u001b[36m0:00:00\u001b[0m\n",
            "\u001b[2K     \u001b[90m━━━━━━━━━━━━━━━━━━━━━━━━━━━━━━━━━━━━━━━━\u001b[0m \u001b[32m1.2/1.2 MB\u001b[0m \u001b[31m22.8 MB/s\u001b[0m eta \u001b[36m0:00:00\u001b[0m\n",
            "\u001b[2K     \u001b[90m━━━━━━━━━━━━━━━━━━━━━━━━━━━━━━━━━━━━━━━━\u001b[0m \u001b[32m90.0/90.0 kB\u001b[0m \u001b[31m9.5 MB/s\u001b[0m eta \u001b[36m0:00:00\u001b[0m\n",
            "\u001b[2K     \u001b[90m━━━━━━━━━━━━━━━━━━━━━━━━━━━━━━━━━━━━━━━━\u001b[0m \u001b[32m49.1/49.1 kB\u001b[0m \u001b[31m5.2 MB/s\u001b[0m eta \u001b[36m0:00:00\u001b[0m\n",
            "\u001b[2K     \u001b[90m━━━━━━━━━━━━━━━━━━━━━━━━━━━━━━━━━━━━━━━\u001b[0m \u001b[32m268.5/268.5 kB\u001b[0m \u001b[31m5.8 MB/s\u001b[0m eta \u001b[36m0:00:00\u001b[0m\n",
            "\u001b[?25hCollecting tiktoken\n",
            "  Downloading tiktoken-0.4.0-cp310-cp310-manylinux_2_17_x86_64.manylinux2014_x86_64.whl (1.7 MB)\n",
            "\u001b[2K     \u001b[90m━━━━━━━━━━━━━━━━━━━━━━━━━━━━━━━━━━━━━━━━\u001b[0m \u001b[32m1.7/1.7 MB\u001b[0m \u001b[31m31.0 MB/s\u001b[0m eta \u001b[36m0:00:00\u001b[0m\n",
            "\u001b[?25hRequirement already satisfied: regex>=2022.1.18 in /usr/local/lib/python3.10/dist-packages (from tiktoken) (2022.10.31)\n",
            "Requirement already satisfied: requests>=2.26.0 in /usr/local/lib/python3.10/dist-packages (from tiktoken) (2.27.1)\n",
            "Requirement already satisfied: urllib3<1.27,>=1.21.1 in /usr/local/lib/python3.10/dist-packages (from requests>=2.26.0->tiktoken) (1.26.16)\n",
            "Requirement already satisfied: certifi>=2017.4.17 in /usr/local/lib/python3.10/dist-packages (from requests>=2.26.0->tiktoken) (2023.5.7)\n",
            "Requirement already satisfied: charset-normalizer~=2.0.0 in /usr/local/lib/python3.10/dist-packages (from requests>=2.26.0->tiktoken) (2.0.12)\n",
            "Requirement already satisfied: idna<4,>=2.5 in /usr/local/lib/python3.10/dist-packages (from requests>=2.26.0->tiktoken) (3.4)\n",
            "Installing collected packages: tiktoken\n",
            "Successfully installed tiktoken-0.4.0\n"
          ]
        }
      ]
    },
    {
      "cell_type": "code",
      "source": [
        "import os\n",
        "\n",
        "os.environ['OPENAI_API_KEY'] = ''\n",
        "os.environ['HUGGINGFACEHUB_API_TOKEN'] = ''"
      ],
      "metadata": {
        "id": "vXHmzBL9PH5l"
      },
      "execution_count": 2,
      "outputs": []
    },
    {
      "cell_type": "code",
      "source": [
        "from langchain.chat_models import ChatOpenAI\n",
        "from langchain.llms import OpenAI, OpenAIChat\n",
        "from langchain import PromptTemplate, HuggingFaceHub, LLMChain\n",
        "\n",
        "from langchain.prompts.chat import (\n",
        "    ChatPromptTemplate,\n",
        "    HumanMessagePromptTemplate,\n",
        "    SystemMessagePromptTemplate\n",
        ")\n",
        "prefix_message = \"You are a personal assistant who helps me, Vitalij, \\\n",
        "to manage my productivity and efficiency on a daily base.\"\n",
        "\n",
        "template = \"\"\"Question: {question}\n",
        "\n",
        "Answer: \"\"\"\n",
        "\n",
        "question = \"How do I make my day more productive?\"\n",
        "system_message_prompt = SystemMessagePromptTemplate.from_template(prefix_message)\n",
        "#humange_message_prompt = HumanMessagePromptTemplate.from_template(template)\n",
        "\n",
        "human_message_prompt = HumanMessagePromptTemplate(\n",
        "        prompt = PromptTemplate(template=template, input_variables=[\"question\"])\n",
        "    )\n",
        "\n",
        "chat_prompt_template = ChatPromptTemplate.from_messages([system_message_prompt, human_message_prompt])\n",
        "\n",
        "#prefix_message = [{\"role\": \"system\", \"content\": \"You are a personal assistant who helps me, Vitalij, \\\n",
        "#to manage my productivity and efficiency on a daily base.\"}]\n",
        "\n",
        "chat_gpt35 = ChatOpenAI(model_name='gpt-3.5-turbo', temperature = 0, max_tokens = 100)\n",
        "\n",
        "llm_chain = LLMChain(\n",
        "    prompt=chat_prompt_template,\n",
        "    llm=chat_gpt35\n",
        ")\n",
        "\n",
        "print(llm_chain.run(question))"
      ],
      "metadata": {
        "colab": {
          "base_uri": "https://localhost:8080/"
        },
        "id": "pxdJaAEZOuTO",
        "outputId": "b4c5f549-4a78-42eb-aefa-6c10ee006f85"
      },
      "execution_count": 3,
      "outputs": [
        {
          "output_type": "stream",
          "name": "stdout",
          "text": [
            "To make your day more productive, here are some tips:\n",
            "\n",
            "1. Set clear goals: Start your day by setting specific and achievable goals. This will give you a sense of direction and purpose.\n",
            "\n",
            "2. Prioritize tasks: Identify the most important tasks that need to be done and prioritize them accordingly. Focus on completing high-priority tasks first.\n",
            "\n",
            "3. Break tasks into smaller steps: Large tasks can be overwhelming. Break them down into smaller, more manageable steps to make them easier to tackle.\n",
            "\n",
            "4\n"
          ]
        }
      ]
    },
    {
      "cell_type": "markdown",
      "source": [
        "## Adding memory"
      ],
      "metadata": {
        "id": "gBYbdYI8p2lx"
      }
    },
    {
      "cell_type": "markdown",
      "source": [
        "### Most basic memory\n",
        "Keep in mind, this blows up the token count. Everytime you send a request, you pay more and more."
      ],
      "metadata": {
        "id": "cVoQjy184SYn"
      }
    },
    {
      "cell_type": "code",
      "source": [
        "from langchain.chains.conversation.memory import ConversationBufferMemory\n",
        "from langchain.chains import ConversationChain\n",
        "from langchain import PromptTemplate, HuggingFaceHub, LLMChain\n",
        "\n",
        "memory = ConversationBufferMemory()\n",
        "\n",
        "conversation = ConversationChain(\n",
        "    llm = chat_gpt35,\n",
        "    verbose = True,\n",
        "    memory = memory\n",
        ")"
      ],
      "metadata": {
        "id": "qkkfar_Mp2Nb"
      },
      "execution_count": 4,
      "outputs": []
    },
    {
      "cell_type": "code",
      "source": [
        "conversation.predict(input=question)"
      ],
      "metadata": {
        "colab": {
          "base_uri": "https://localhost:8080/",
          "height": 385
        },
        "id": "nGfSgEJB3ZF3",
        "outputId": "04fcf60e-b190-4678-bc18-4876add85cea"
      },
      "execution_count": 5,
      "outputs": [
        {
          "output_type": "stream",
          "name": "stdout",
          "text": [
            "\n",
            "\n",
            "\u001b[1m> Entering new  chain...\u001b[0m\n",
            "Prompt after formatting:\n",
            "\u001b[32;1m\u001b[1;3mThe following is a friendly conversation between a human and an AI. The AI is talkative and provides lots of specific details from its context. If the AI does not know the answer to a question, it truthfully says it does not know.\n",
            "\n",
            "Current conversation:\n",
            "\n",
            "Human: How do I make my day more productive?\n",
            "AI:\u001b[0m\n",
            "\n",
            "\u001b[1m> Finished chain.\u001b[0m\n"
          ]
        },
        {
          "output_type": "execute_result",
          "data": {
            "text/plain": [
              "'There are several strategies you can try to make your day more productive. First, start by setting clear goals and priorities for the day. This will help you stay focused and avoid getting overwhelmed by tasks. Additionally, try breaking down larger tasks into smaller, more manageable ones. This will make them feel less daunting and easier to tackle. Another helpful tip is to eliminate distractions as much as possible. This could mean turning off notifications on your phone or finding a quiet workspace where you can concentrate. Finally, consider'"
            ],
            "application/vnd.google.colaboratory.intrinsic+json": {
              "type": "string"
            }
          },
          "metadata": {},
          "execution_count": 5
        }
      ]
    },
    {
      "cell_type": "code",
      "source": [
        "conversation.predict(input=\"Create a list of strategies.\")"
      ],
      "metadata": {
        "colab": {
          "base_uri": "https://localhost:8080/",
          "height": 385
        },
        "id": "isUG21Q-3f6Y",
        "outputId": "281e3c4e-9174-4c32-b63e-770d3cb14bad"
      },
      "execution_count": 6,
      "outputs": [
        {
          "output_type": "stream",
          "name": "stdout",
          "text": [
            "\n",
            "\n",
            "\u001b[1m> Entering new  chain...\u001b[0m\n",
            "Prompt after formatting:\n",
            "\u001b[32;1m\u001b[1;3mThe following is a friendly conversation between a human and an AI. The AI is talkative and provides lots of specific details from its context. If the AI does not know the answer to a question, it truthfully says it does not know.\n",
            "\n",
            "Current conversation:\n",
            "Human: How do I make my day more productive?\n",
            "AI: There are several strategies you can try to make your day more productive. First, start by setting clear goals and priorities for the day. This will help you stay focused and avoid getting overwhelmed by tasks. Additionally, try breaking down larger tasks into smaller, more manageable ones. This will make them feel less daunting and easier to tackle. Another helpful tip is to eliminate distractions as much as possible. This could mean turning off notifications on your phone or finding a quiet workspace where you can concentrate. Finally, consider\n",
            "Human: Create a list of strategies.\n",
            "AI:\u001b[0m\n",
            "\n",
            "\u001b[1m> Finished chain.\u001b[0m\n"
          ]
        },
        {
          "output_type": "execute_result",
          "data": {
            "text/plain": [
              "'Sure! Here is a list of strategies to make your day more productive:\\n\\n1. Set clear goals and priorities for the day.\\n2. Break down larger tasks into smaller, more manageable ones.\\n3. Eliminate distractions as much as possible.\\n4. Find a quiet workspace where you can concentrate.\\n5. Prioritize your tasks based on importance and urgency.\\n6. Use time management techniques, such as the Pomodoro Technique, to stay focused.\\n7. Take regular breaks to recharge and avoid'"
            ],
            "application/vnd.google.colaboratory.intrinsic+json": {
              "type": "string"
            }
          },
          "metadata": {},
          "execution_count": 6
        }
      ]
    },
    {
      "cell_type": "code",
      "source": [
        "print(conversation.memory.buffer)"
      ],
      "metadata": {
        "colab": {
          "base_uri": "https://localhost:8080/"
        },
        "id": "gW9nPuz731-Y",
        "outputId": "6d92534b-5e20-4fd2-cfe6-2bff0cf6816f"
      },
      "execution_count": 7,
      "outputs": [
        {
          "output_type": "stream",
          "name": "stdout",
          "text": [
            "Human: How do I make my day more productive?\n",
            "AI: There are several strategies you can try to make your day more productive. First, start by setting clear goals and priorities for the day. This will help you stay focused and avoid getting overwhelmed by tasks. Additionally, try breaking down larger tasks into smaller, more manageable ones. This will make them feel less daunting and easier to tackle. Another helpful tip is to eliminate distractions as much as possible. This could mean turning off notifications on your phone or finding a quiet workspace where you can concentrate. Finally, consider\n",
            "Human: Create a list of strategies.\n",
            "AI: Sure! Here is a list of strategies to make your day more productive:\n",
            "\n",
            "1. Set clear goals and priorities for the day.\n",
            "2. Break down larger tasks into smaller, more manageable ones.\n",
            "3. Eliminate distractions as much as possible.\n",
            "4. Find a quiet workspace where you can concentrate.\n",
            "5. Prioritize your tasks based on importance and urgency.\n",
            "6. Use time management techniques, such as the Pomodoro Technique, to stay focused.\n",
            "7. Take regular breaks to recharge and avoid\n"
          ]
        }
      ]
    },
    {
      "cell_type": "markdown",
      "source": [
        "### Basic Conversation with ConversationBufferWindowMemory\n",
        "\n",
        "Define how much previous messages should be preserved. Older messages are dropped."
      ],
      "metadata": {
        "id": "GASZCBsQ4bJI"
      }
    },
    {
      "cell_type": "code",
      "source": [
        "from langchain.chains.conversation.memory import ConversationBufferWindowMemory\n",
        "from langchain import PromptTemplate, HuggingFaceHub, LLMChain\n",
        "\n",
        "from langchain.chains import ConversationChain"
      ],
      "metadata": {
        "id": "OrzzOdPl4hDZ"
      },
      "execution_count": 8,
      "outputs": []
    },
    {
      "cell_type": "code",
      "source": [
        "# k = 2: Keep only the last 2 interactions in memory\n",
        "window_memory = ConversationBufferWindowMemory(k=2)"
      ],
      "metadata": {
        "id": "E4JgPoXC4s4Y"
      },
      "execution_count": 9,
      "outputs": []
    },
    {
      "cell_type": "code",
      "source": [
        "conversation = ConversationChain(\n",
        "    llm = chat_gpt35,\n",
        "    verbose = True,\n",
        "    memory = window_memory\n",
        ")"
      ],
      "metadata": {
        "id": "SZ1eJP-m45G3"
      },
      "execution_count": 10,
      "outputs": []
    },
    {
      "cell_type": "code",
      "source": [
        "conversation.predict(input=question)"
      ],
      "metadata": {
        "colab": {
          "base_uri": "https://localhost:8080/",
          "height": 385
        },
        "id": "9Mg8ZUln49IH",
        "outputId": "57dd7e73-4305-415f-8b18-95816eee431a"
      },
      "execution_count": 11,
      "outputs": [
        {
          "output_type": "stream",
          "name": "stdout",
          "text": [
            "\n",
            "\n",
            "\u001b[1m> Entering new  chain...\u001b[0m\n",
            "Prompt after formatting:\n",
            "\u001b[32;1m\u001b[1;3mThe following is a friendly conversation between a human and an AI. The AI is talkative and provides lots of specific details from its context. If the AI does not know the answer to a question, it truthfully says it does not know.\n",
            "\n",
            "Current conversation:\n",
            "\n",
            "Human: How do I make my day more productive?\n",
            "AI:\u001b[0m\n",
            "\n",
            "\u001b[1m> Finished chain.\u001b[0m\n"
          ]
        },
        {
          "output_type": "execute_result",
          "data": {
            "text/plain": [
              "'There are several strategies you can try to make your day more productive. First, start by setting clear goals and priorities for the day. This will help you stay focused and avoid getting overwhelmed by tasks. Additionally, try breaking down larger tasks into smaller, more manageable ones. This will make them feel less daunting and easier to tackle. Another helpful tip is to eliminate distractions as much as possible. This could mean turning off notifications on your phone or finding a quiet workspace where you can concentrate. Finally, consider'"
            ],
            "application/vnd.google.colaboratory.intrinsic+json": {
              "type": "string"
            }
          },
          "metadata": {},
          "execution_count": 11
        }
      ]
    },
    {
      "cell_type": "code",
      "source": [
        "conversation.predict(input=\"Create a list of strategies.\")"
      ],
      "metadata": {
        "colab": {
          "base_uri": "https://localhost:8080/",
          "height": 385
        },
        "id": "-1Ga5Myg4_a3",
        "outputId": "609015b3-0f42-4121-8386-63b0bcf759ae"
      },
      "execution_count": 12,
      "outputs": [
        {
          "output_type": "stream",
          "name": "stdout",
          "text": [
            "\n",
            "\n",
            "\u001b[1m> Entering new  chain...\u001b[0m\n",
            "Prompt after formatting:\n",
            "\u001b[32;1m\u001b[1;3mThe following is a friendly conversation between a human and an AI. The AI is talkative and provides lots of specific details from its context. If the AI does not know the answer to a question, it truthfully says it does not know.\n",
            "\n",
            "Current conversation:\n",
            "Human: How do I make my day more productive?\n",
            "AI: There are several strategies you can try to make your day more productive. First, start by setting clear goals and priorities for the day. This will help you stay focused and avoid getting overwhelmed by tasks. Additionally, try breaking down larger tasks into smaller, more manageable ones. This will make them feel less daunting and easier to tackle. Another helpful tip is to eliminate distractions as much as possible. This could mean turning off notifications on your phone or finding a quiet workspace where you can concentrate. Finally, consider\n",
            "Human: Create a list of strategies.\n",
            "AI:\u001b[0m\n",
            "\n",
            "\u001b[1m> Finished chain.\u001b[0m\n"
          ]
        },
        {
          "output_type": "execute_result",
          "data": {
            "text/plain": [
              "'Sure! Here is a list of strategies to make your day more productive:\\n\\n1. Set clear goals and priorities for the day.\\n2. Break down larger tasks into smaller, more manageable ones.\\n3. Eliminate distractions as much as possible.\\n4. Find a quiet workspace where you can concentrate.\\n5. Prioritize your tasks based on importance and urgency.\\n6. Use time management techniques, such as the Pomodoro Technique, to stay focused.\\n7. Take regular breaks to recharge and avoid'"
            ],
            "application/vnd.google.colaboratory.intrinsic+json": {
              "type": "string"
            }
          },
          "metadata": {},
          "execution_count": 12
        }
      ]
    },
    {
      "cell_type": "code",
      "source": [
        "conversation.predict(input=\"What is the easiest to start with?\")"
      ],
      "metadata": {
        "colab": {
          "base_uri": "https://localhost:8080/",
          "height": 524
        },
        "id": "hzVNTMvi5DeP",
        "outputId": "692df19a-dc5a-4e61-c166-bf094683974e"
      },
      "execution_count": 13,
      "outputs": [
        {
          "output_type": "stream",
          "name": "stdout",
          "text": [
            "\n",
            "\n",
            "\u001b[1m> Entering new  chain...\u001b[0m\n",
            "Prompt after formatting:\n",
            "\u001b[32;1m\u001b[1;3mThe following is a friendly conversation between a human and an AI. The AI is talkative and provides lots of specific details from its context. If the AI does not know the answer to a question, it truthfully says it does not know.\n",
            "\n",
            "Current conversation:\n",
            "Human: How do I make my day more productive?\n",
            "AI: There are several strategies you can try to make your day more productive. First, start by setting clear goals and priorities for the day. This will help you stay focused and avoid getting overwhelmed by tasks. Additionally, try breaking down larger tasks into smaller, more manageable ones. This will make them feel less daunting and easier to tackle. Another helpful tip is to eliminate distractions as much as possible. This could mean turning off notifications on your phone or finding a quiet workspace where you can concentrate. Finally, consider\n",
            "Human: Create a list of strategies.\n",
            "AI: Sure! Here is a list of strategies to make your day more productive:\n",
            "\n",
            "1. Set clear goals and priorities for the day.\n",
            "2. Break down larger tasks into smaller, more manageable ones.\n",
            "3. Eliminate distractions as much as possible.\n",
            "4. Find a quiet workspace where you can concentrate.\n",
            "5. Prioritize your tasks based on importance and urgency.\n",
            "6. Use time management techniques, such as the Pomodoro Technique, to stay focused.\n",
            "7. Take regular breaks to recharge and avoid\n",
            "Human: What is the easiest to start with?\n",
            "AI:\u001b[0m\n",
            "\n",
            "\u001b[1m> Finished chain.\u001b[0m\n"
          ]
        },
        {
          "output_type": "execute_result",
          "data": {
            "text/plain": [
              "'The easiest strategy to start with would be setting clear goals and priorities for the day. This can be done by making a to-do list or using a planner to outline the tasks you need to accomplish. By having a clear plan in place, you can stay focused and avoid feeling overwhelmed by the number of tasks you have to complete.'"
            ],
            "application/vnd.google.colaboratory.intrinsic+json": {
              "type": "string"
            }
          },
          "metadata": {},
          "execution_count": 13
        }
      ]
    },
    {
      "cell_type": "code",
      "source": [
        "conversation.predict(input=\"Give me a tutorial on this?\")"
      ],
      "metadata": {
        "colab": {
          "base_uri": "https://localhost:8080/",
          "height": 558
        },
        "id": "2NSUpEcP5Mz3",
        "outputId": "5ea68ca9-afb9-429f-ae83-661fb46f708e"
      },
      "execution_count": 14,
      "outputs": [
        {
          "output_type": "stream",
          "name": "stdout",
          "text": [
            "\n",
            "\n",
            "\u001b[1m> Entering new  chain...\u001b[0m\n",
            "Prompt after formatting:\n",
            "\u001b[32;1m\u001b[1;3mThe following is a friendly conversation between a human and an AI. The AI is talkative and provides lots of specific details from its context. If the AI does not know the answer to a question, it truthfully says it does not know.\n",
            "\n",
            "Current conversation:\n",
            "Human: Create a list of strategies.\n",
            "AI: Sure! Here is a list of strategies to make your day more productive:\n",
            "\n",
            "1. Set clear goals and priorities for the day.\n",
            "2. Break down larger tasks into smaller, more manageable ones.\n",
            "3. Eliminate distractions as much as possible.\n",
            "4. Find a quiet workspace where you can concentrate.\n",
            "5. Prioritize your tasks based on importance and urgency.\n",
            "6. Use time management techniques, such as the Pomodoro Technique, to stay focused.\n",
            "7. Take regular breaks to recharge and avoid\n",
            "Human: What is the easiest to start with?\n",
            "AI: The easiest strategy to start with would be setting clear goals and priorities for the day. This can be done by making a to-do list or using a planner to outline the tasks you need to accomplish. By having a clear plan in place, you can stay focused and avoid feeling overwhelmed by the number of tasks you have to complete.\n",
            "Human: Give me a tutorial on this?\n",
            "AI:\u001b[0m\n",
            "\n",
            "\u001b[1m> Finished chain.\u001b[0m\n"
          ]
        },
        {
          "output_type": "execute_result",
          "data": {
            "text/plain": [
              "'Certainly! Here\\'s a step-by-step tutorial on setting clear goals and priorities for the day:\\n\\n1. Start by taking a few minutes in the morning to reflect on what you need to accomplish for the day. Consider both your short-term and long-term goals.\\n\\n2. Write down your goals and tasks in a to-do list or a planner. Be specific and break down larger tasks into smaller, more manageable ones. For example, instead of writing \"Work on project,\" you can break it down into'"
            ],
            "application/vnd.google.colaboratory.intrinsic+json": {
              "type": "string"
            }
          },
          "metadata": {},
          "execution_count": 14
        }
      ]
    },
    {
      "cell_type": "code",
      "source": [
        "print(conversation.memory.buffer)"
      ],
      "metadata": {
        "colab": {
          "base_uri": "https://localhost:8080/"
        },
        "id": "--ncxhMe5Uko",
        "outputId": "0fd10db9-9a9a-48bb-8e4c-4867dc9881ef"
      },
      "execution_count": 15,
      "outputs": [
        {
          "output_type": "stream",
          "name": "stdout",
          "text": [
            "[HumanMessage(content='How do I make my day more productive?', additional_kwargs={}, example=False), AIMessage(content='There are several strategies you can try to make your day more productive. First, start by setting clear goals and priorities for the day. This will help you stay focused and avoid getting overwhelmed by tasks. Additionally, try breaking down larger tasks into smaller, more manageable ones. This will make them feel less daunting and easier to tackle. Another helpful tip is to eliminate distractions as much as possible. This could mean turning off notifications on your phone or finding a quiet workspace where you can concentrate. Finally, consider', additional_kwargs={}, example=False), HumanMessage(content='Create a list of strategies.', additional_kwargs={}, example=False), AIMessage(content='Sure! Here is a list of strategies to make your day more productive:\\n\\n1. Set clear goals and priorities for the day.\\n2. Break down larger tasks into smaller, more manageable ones.\\n3. Eliminate distractions as much as possible.\\n4. Find a quiet workspace where you can concentrate.\\n5. Prioritize your tasks based on importance and urgency.\\n6. Use time management techniques, such as the Pomodoro Technique, to stay focused.\\n7. Take regular breaks to recharge and avoid', additional_kwargs={}, example=False), HumanMessage(content='What is the easiest to start with?', additional_kwargs={}, example=False), AIMessage(content='The easiest strategy to start with would be setting clear goals and priorities for the day. This can be done by making a to-do list or using a planner to outline the tasks you need to accomplish. By having a clear plan in place, you can stay focused and avoid feeling overwhelmed by the number of tasks you have to complete.', additional_kwargs={}, example=False), HumanMessage(content='Give me a tutorial on this?', additional_kwargs={}, example=False), AIMessage(content='Certainly! Here\\'s a step-by-step tutorial on setting clear goals and priorities for the day:\\n\\n1. Start by taking a few minutes in the morning to reflect on what you need to accomplish for the day. Consider both your short-term and long-term goals.\\n\\n2. Write down your goals and tasks in a to-do list or a planner. Be specific and break down larger tasks into smaller, more manageable ones. For example, instead of writing \"Work on project,\" you can break it down into', additional_kwargs={}, example=False)]\n"
          ]
        }
      ]
    },
    {
      "cell_type": "markdown",
      "source": [
        "### Basic Conversation with ConversationBufferWindowMemory\n",
        "\n",
        "Creates a summary of every messages. Very helpful for documentation reasons."
      ],
      "metadata": {
        "id": "mZNjicvu5jKF"
      }
    },
    {
      "cell_type": "code",
      "source": [
        "from langchain.chains.conversation.memory import ConversationSummaryBufferMemory\n",
        "from langchain.chains import ConversationChain"
      ],
      "metadata": {
        "id": "sxXU-0ol5jKM"
      },
      "execution_count": 16,
      "outputs": []
    },
    {
      "cell_type": "code",
      "source": [
        "# k = 2: Keep only the last 2 interactions in memory\n",
        "summary_memory = ConversationSummaryBufferMemory(llm = OpenAIChat(), max_token_limit=40)"
      ],
      "metadata": {
        "colab": {
          "base_uri": "https://localhost:8080/"
        },
        "id": "tHsOuzMw5jKM",
        "outputId": "ba2bfd20-f273-4f3e-c723-e7da669cb5f1"
      },
      "execution_count": 17,
      "outputs": [
        {
          "output_type": "stream",
          "name": "stderr",
          "text": [
            "/usr/local/lib/python3.10/dist-packages/langchain/llms/openai.py:769: UserWarning: You are trying to use a chat model. This way of initializing it is no longer supported. Instead, please use: `from langchain.chat_models import ChatOpenAI`\n",
            "  warnings.warn(\n"
          ]
        }
      ]
    },
    {
      "cell_type": "code",
      "source": [
        "conversation = ConversationChain(\n",
        "    llm = chat_gpt35,\n",
        "    verbose = True,\n",
        "    memory = summary_memory\n",
        ")"
      ],
      "metadata": {
        "id": "Gf0E3mJd5jKN"
      },
      "execution_count": 18,
      "outputs": []
    },
    {
      "cell_type": "code",
      "source": [
        "conversation.predict(input=question)"
      ],
      "metadata": {
        "colab": {
          "base_uri": "https://localhost:8080/",
          "height": 385
        },
        "outputId": "9c42e434-8f62-4b83-9bd8-92c660ef5a37",
        "id": "4bn6CxJF5jKN"
      },
      "execution_count": 19,
      "outputs": [
        {
          "output_type": "stream",
          "name": "stdout",
          "text": [
            "\n",
            "\n",
            "\u001b[1m> Entering new  chain...\u001b[0m\n",
            "Prompt after formatting:\n",
            "\u001b[32;1m\u001b[1;3mThe following is a friendly conversation between a human and an AI. The AI is talkative and provides lots of specific details from its context. If the AI does not know the answer to a question, it truthfully says it does not know.\n",
            "\n",
            "Current conversation:\n",
            "\n",
            "Human: How do I make my day more productive?\n",
            "AI:\u001b[0m\n",
            "\n",
            "\u001b[1m> Finished chain.\u001b[0m\n"
          ]
        },
        {
          "output_type": "execute_result",
          "data": {
            "text/plain": [
              "'There are several strategies you can try to make your day more productive. First, start by setting clear goals and priorities for the day. This will help you stay focused and avoid getting overwhelmed by tasks. Additionally, try breaking down larger tasks into smaller, more manageable ones. This will make them feel less daunting and easier to tackle. Another helpful tip is to eliminate distractions as much as possible. This could mean turning off notifications on your phone or finding a quiet workspace where you can concentrate. Finally, consider'"
            ],
            "application/vnd.google.colaboratory.intrinsic+json": {
              "type": "string"
            }
          },
          "metadata": {},
          "execution_count": 19
        }
      ]
    },
    {
      "cell_type": "code",
      "source": [
        "conversation.predict(input=\"Create a list of strategies.\")"
      ],
      "metadata": {
        "colab": {
          "base_uri": "https://localhost:8080/",
          "height": 367
        },
        "outputId": "7727e11e-7de4-45b5-a1b8-0fce1ef23951",
        "id": "XvLM-I165jKN"
      },
      "execution_count": 20,
      "outputs": [
        {
          "output_type": "stream",
          "name": "stdout",
          "text": [
            "\n",
            "\n",
            "\u001b[1m> Entering new  chain...\u001b[0m\n",
            "Prompt after formatting:\n",
            "\u001b[32;1m\u001b[1;3mThe following is a friendly conversation between a human and an AI. The AI is talkative and provides lots of specific details from its context. If the AI does not know the answer to a question, it truthfully says it does not know.\n",
            "\n",
            "Current conversation:\n",
            "System: The human asks how to make their day more productive. The AI suggests several strategies, such as setting clear goals and priorities, breaking down larger tasks, eliminating distractions, and considering\n",
            "Human: Create a list of strategies.\n",
            "AI:\u001b[0m\n",
            "\n",
            "\u001b[1m> Finished chain.\u001b[0m\n"
          ]
        },
        {
          "output_type": "execute_result",
          "data": {
            "text/plain": [
              "'Sure! Here is a list of strategies to make your day more productive:\\n\\n1. Set clear goals and priorities: Start your day by identifying the most important tasks you need to accomplish. This will help you stay focused and avoid getting overwhelmed by smaller, less significant tasks.\\n\\n2. Break down larger tasks: If you have a big project or task ahead of you, break it down into smaller, more manageable steps. This will make it easier to tackle and give you a sense of progress as you complete'"
            ],
            "application/vnd.google.colaboratory.intrinsic+json": {
              "type": "string"
            }
          },
          "metadata": {},
          "execution_count": 20
        }
      ]
    },
    {
      "cell_type": "code",
      "source": [
        "conversation.predict(input=\"What is the easiest to start with?\")"
      ],
      "metadata": {
        "colab": {
          "base_uri": "https://localhost:8080/",
          "height": 333
        },
        "outputId": "4ed6a668-4199-4629-e338-fc40a891f7a5",
        "id": "a_FyUb1I5jKN"
      },
      "execution_count": 21,
      "outputs": [
        {
          "output_type": "stream",
          "name": "stdout",
          "text": [
            "\n",
            "\n",
            "\u001b[1m> Entering new  chain...\u001b[0m\n",
            "Prompt after formatting:\n",
            "\u001b[32;1m\u001b[1;3mThe following is a friendly conversation between a human and an AI. The AI is talkative and provides lots of specific details from its context. If the AI does not know the answer to a question, it truthfully says it does not know.\n",
            "\n",
            "Current conversation:\n",
            "System: The human asks how to make their day more productive. The AI suggests several strategies, such as setting clear goals and priorities, breaking down larger tasks, eliminating distractions, and considering time management techniques. The AI also creates a list of strategies, including setting clear goals, breaking down larger tasks, prioritizing tasks, eliminating distractions, and using time management techniques.\n",
            "Human: What is the easiest to start with?\n",
            "AI:\u001b[0m\n",
            "\n",
            "\u001b[1m> Finished chain.\u001b[0m\n"
          ]
        },
        {
          "output_type": "execute_result",
          "data": {
            "text/plain": [
              "'The easiest strategy to start with would be eliminating distractions. This can be as simple as turning off notifications on your phone or computer, closing unnecessary tabs or apps, and finding a quiet and comfortable workspace. By minimizing distractions, you can focus better on your tasks and increase your productivity.'"
            ],
            "application/vnd.google.colaboratory.intrinsic+json": {
              "type": "string"
            }
          },
          "metadata": {},
          "execution_count": 21
        }
      ]
    },
    {
      "cell_type": "code",
      "source": [
        "conversation.predict(input=\"Give me a tutorial on this?\")"
      ],
      "metadata": {
        "colab": {
          "base_uri": "https://localhost:8080/",
          "height": 367
        },
        "outputId": "c122cb8f-e7a3-410b-b123-598d3ff96f1a",
        "id": "1QQFKN-t5jKN"
      },
      "execution_count": 22,
      "outputs": [
        {
          "output_type": "stream",
          "name": "stdout",
          "text": [
            "\n",
            "\n",
            "\u001b[1m> Entering new  chain...\u001b[0m\n",
            "Prompt after formatting:\n",
            "\u001b[32;1m\u001b[1;3mThe following is a friendly conversation between a human and an AI. The AI is talkative and provides lots of specific details from its context. If the AI does not know the answer to a question, it truthfully says it does not know.\n",
            "\n",
            "Current conversation:\n",
            "System: The human asks how to make their day more productive. The AI suggests several strategies, such as setting clear goals and priorities, breaking down larger tasks, eliminating distractions, and considering time management techniques. The AI also creates a list of strategies, including setting clear goals, breaking down larger tasks, prioritizing tasks, eliminating distractions, and using time management techniques. The easiest strategy to start with, according to the AI, is eliminating distractions. This can be achieved by turning off notifications, closing unnecessary tabs or apps, and finding a quiet workspace, which will help increase focus and productivity.\n",
            "Human: Give me a tutorial on this?\n",
            "AI:\u001b[0m\n",
            "\n",
            "\u001b[1m> Finished chain.\u001b[0m\n"
          ]
        },
        {
          "output_type": "execute_result",
          "data": {
            "text/plain": [
              "\"Certainly! Here's a step-by-step tutorial on how to eliminate distractions and increase your productivity:\\n\\n1. Start by turning off notifications on your devices. This includes notifications from social media, email, messaging apps, and any other apps that tend to distract you. By doing this, you'll be able to focus on your tasks without constant interruptions.\\n\\n2. Close unnecessary tabs or apps on your computer or smartphone. Having too many tabs or apps open can be overwhelming and make it difficult to concentrate. Close\""
            ],
            "application/vnd.google.colaboratory.intrinsic+json": {
              "type": "string"
            }
          },
          "metadata": {},
          "execution_count": 22
        }
      ]
    },
    {
      "cell_type": "code",
      "source": [
        "print(conversation.memory.moving_summary_buffer)"
      ],
      "metadata": {
        "colab": {
          "base_uri": "https://localhost:8080/"
        },
        "outputId": "b0f0df64-2f60-43cb-eda5-ade5330bad12",
        "id": "loihePhF5jKO"
      },
      "execution_count": 23,
      "outputs": [
        {
          "output_type": "stream",
          "name": "stdout",
          "text": [
            "The human asks how to make their day more productive. The AI suggests several strategies, such as setting clear goals and priorities, breaking down larger tasks, eliminating distractions, and considering time management techniques. It creates a list of strategies, including setting clear goals, breaking down tasks, prioritizing, eliminating distractions, and using time management techniques. The easiest strategy is to start by eliminating distractions, which can be achieved by turning off notifications, closing unnecessary tabs or apps, and finding a quiet workspace. In response to the human's request for a tutorial, the AI provides a step-by-step guide on how to eliminate distractions, starting with turning off notifications and closing unnecessary tabs or apps.\n"
          ]
        }
      ]
    },
    {
      "cell_type": "markdown",
      "source": [
        "### Basic Conversation with Conversation Knowledge Graph Memory\n"
      ],
      "metadata": {
        "id": "O-vb-sR88qlH"
      }
    },
    {
      "cell_type": "code",
      "source": [
        "from langchain.chains.conversation.memory import ConversationKGMemory\n",
        "from langchain import PromptTemplate, HuggingFaceHub, LLMChain\n",
        "\n",
        "from langchain.chains import ConversationChain"
      ],
      "metadata": {
        "id": "CVOYsvIw8vQv"
      },
      "execution_count": 34,
      "outputs": []
    },
    {
      "cell_type": "code",
      "source": [
        "template = \"\"\"The following is a friendly conversation between a human and an AI. The AI is talkative and provides lots of specific details from its context.\n",
        "If the AI does not know the answer to a question, it truthfully says it does not know. The AI ONLY uses information contained in the \"Relevant Information\" section and does not hallucinate.\n",
        "\n",
        "Relevant Information:\n",
        "\n",
        "{history}\n",
        "\n",
        "Conversation:\n",
        "Human: {input}\n",
        "AI:\"\"\"\n",
        "prompt = PromptTemplate(\n",
        "    input_variables=[\"history\", \"input\"], template=template\n",
        ")"
      ],
      "metadata": {
        "id": "B1p33Ynn9Xp_"
      },
      "execution_count": 35,
      "outputs": []
    },
    {
      "cell_type": "code",
      "source": [
        "conversation_with_kg =ConversationChain(\n",
        "    llm = chat_gpt35,\n",
        "    verbose = True,\n",
        "    prompt = prompt,\n",
        "    memory = ConversationKGMemory(llm=chat_gpt35)\n",
        ")"
      ],
      "metadata": {
        "id": "xwFl8MYsAq4v"
      },
      "execution_count": 36,
      "outputs": []
    },
    {
      "cell_type": "code",
      "source": [
        "conversation_with_kg.predict(input=question)"
      ],
      "metadata": {
        "colab": {
          "base_uri": "https://localhost:8080/",
          "height": 0
        },
        "outputId": "30dc5a8c-4d74-41f7-99f4-99f913939353",
        "id": "rGpsI2-ZDYPW"
      },
      "execution_count": 37,
      "outputs": [
        {
          "output_type": "stream",
          "name": "stdout",
          "text": [
            "\n",
            "\n",
            "\u001b[1m> Entering new  chain...\u001b[0m\n",
            "Prompt after formatting:\n",
            "\u001b[32;1m\u001b[1;3mThe following is a friendly conversation between a human and an AI. The AI is talkative and provides lots of specific details from its context. \n",
            "If the AI does not know the answer to a question, it truthfully says it does not know. The AI ONLY uses information contained in the \"Relevant Information\" section and does not hallucinate.\n",
            "\n",
            "Relevant Information:\n",
            "\n",
            "\n",
            "\n",
            "Conversation:\n",
            "Human: How do I make my day more productive?\n",
            "AI:\u001b[0m\n",
            "\n",
            "\u001b[1m> Finished chain.\u001b[0m\n"
          ]
        },
        {
          "output_type": "execute_result",
          "data": {
            "text/plain": [
              "'There are several strategies you can try to make your day more productive. One effective approach is to prioritize your tasks and create a to-do list. This will help you stay organized and focused on what needs to be done. Additionally, breaking down larger tasks into smaller, more manageable ones can make them feel less overwhelming and increase your productivity. Another helpful tip is to eliminate distractions, such as turning off notifications on your phone or computer, finding a quiet workspace, or using productivity apps that block certain websites or'"
            ],
            "application/vnd.google.colaboratory.intrinsic+json": {
              "type": "string"
            }
          },
          "metadata": {},
          "execution_count": 37
        }
      ]
    },
    {
      "cell_type": "code",
      "source": [
        "conversation_with_kg.predict(input=\"Create a list of strategies.\")"
      ],
      "metadata": {
        "colab": {
          "base_uri": "https://localhost:8080/",
          "height": 0
        },
        "outputId": "9a987a27-dfa7-473a-d12b-345ec2cb7d2d",
        "id": "7eH5eZ8cDYPW"
      },
      "execution_count": 38,
      "outputs": [
        {
          "output_type": "stream",
          "name": "stdout",
          "text": [
            "\n",
            "\n",
            "\u001b[1m> Entering new  chain...\u001b[0m\n",
            "Prompt after formatting:\n",
            "\u001b[32;1m\u001b[1;3mThe following is a friendly conversation between a human and an AI. The AI is talkative and provides lots of specific details from its context. \n",
            "If the AI does not know the answer to a question, it truthfully says it does not know. The AI ONLY uses information contained in the \"Relevant Information\" section and does not hallucinate.\n",
            "\n",
            "Relevant Information:\n",
            "\n",
            "\n",
            "\n",
            "Conversation:\n",
            "Human: Create a list of strategies.\n",
            "AI:\u001b[0m\n",
            "\n",
            "\u001b[1m> Finished chain.\u001b[0m\n"
          ]
        },
        {
          "output_type": "execute_result",
          "data": {
            "text/plain": [
              "'Sure! Here are some strategies that you can consider:\\n\\n1. Setting clear goals: Clearly define what you want to achieve and break it down into smaller, manageable tasks.\\n2. Prioritizing tasks: Determine which tasks are most important and tackle them first.\\n3. Time management: Use techniques like the Pomodoro Technique or Eisenhower Matrix to effectively manage your time.\\n4. Delegating tasks: If possible, delegate tasks to others to lighten your workload and focus on more important tasks.\\n5'"
            ],
            "application/vnd.google.colaboratory.intrinsic+json": {
              "type": "string"
            }
          },
          "metadata": {},
          "execution_count": 38
        }
      ]
    },
    {
      "cell_type": "code",
      "source": [
        "conversation_with_kg.predict(input=\"What is the easiest to start with?\")"
      ],
      "metadata": {
        "colab": {
          "base_uri": "https://localhost:8080/",
          "height": 0
        },
        "outputId": "8c0acfc4-bb37-4551-8ab2-217de6d704d5",
        "id": "HNEt76woDYPX"
      },
      "execution_count": 39,
      "outputs": [
        {
          "output_type": "stream",
          "name": "stdout",
          "text": [
            "\n",
            "\n",
            "\u001b[1m> Entering new  chain...\u001b[0m\n",
            "Prompt after formatting:\n",
            "\u001b[32;1m\u001b[1;3mThe following is a friendly conversation between a human and an AI. The AI is talkative and provides lots of specific details from its context. \n",
            "If the AI does not know the answer to a question, it truthfully says it does not know. The AI ONLY uses information contained in the \"Relevant Information\" section and does not hallucinate.\n",
            "\n",
            "Relevant Information:\n",
            "\n",
            "\n",
            "\n",
            "Conversation:\n",
            "Human: What is the easiest to start with?\n",
            "AI:\u001b[0m\n",
            "\n",
            "\u001b[1m> Finished chain.\u001b[0m\n"
          ]
        },
        {
          "output_type": "execute_result",
          "data": {
            "text/plain": [
              "\"The easiest thing to start with would be learning a new language. It's a great way to expand your horizons and connect with people from different cultures. Plus, there are plenty of resources available online and in-person to help you get started.\""
            ],
            "application/vnd.google.colaboratory.intrinsic+json": {
              "type": "string"
            }
          },
          "metadata": {},
          "execution_count": 39
        }
      ]
    },
    {
      "cell_type": "code",
      "source": [
        "conversation_with_kg.predict(input=\"Give me a tutorial on this?\")"
      ],
      "metadata": {
        "colab": {
          "base_uri": "https://localhost:8080/",
          "height": 0
        },
        "outputId": "fb58de5c-1eb6-4694-c89b-f16d250dd648",
        "id": "ta5WJ4yKDYPX"
      },
      "execution_count": 40,
      "outputs": [
        {
          "output_type": "stream",
          "name": "stdout",
          "text": [
            "\n",
            "\n",
            "\u001b[1m> Entering new  chain...\u001b[0m\n",
            "Prompt after formatting:\n",
            "\u001b[32;1m\u001b[1;3mThe following is a friendly conversation between a human and an AI. The AI is talkative and provides lots of specific details from its context. \n",
            "If the AI does not know the answer to a question, it truthfully says it does not know. The AI ONLY uses information contained in the \"Relevant Information\" section and does not hallucinate.\n",
            "\n",
            "Relevant Information:\n",
            "\n",
            "\n",
            "\n",
            "Conversation:\n",
            "Human: Give me a tutorial on this?\n",
            "AI:\u001b[0m\n",
            "\n",
            "\u001b[1m> Finished chain.\u001b[0m\n"
          ]
        },
        {
          "output_type": "execute_result",
          "data": {
            "text/plain": [
              "'Sure! What specifically would you like a tutorial on?'"
            ],
            "application/vnd.google.colaboratory.intrinsic+json": {
              "type": "string"
            }
          },
          "metadata": {},
          "execution_count": 40
        }
      ]
    },
    {
      "cell_type": "code",
      "source": [
        "print(conversation_with_kg.memory.kg.get_triples())"
      ],
      "metadata": {
        "colab": {
          "base_uri": "https://localhost:8080/"
        },
        "outputId": "a46cf5c8-3903-40b4-f384-38c29a9f2938",
        "id": "RTVC3LFhDYPX"
      },
      "execution_count": 41,
      "outputs": [
        {
          "output_type": "stream",
          "name": "stdout",
          "text": [
            "[('Human', 'day more productive', 'make'), ('Human', 'a list of strategies', 'Create'), ('Human', 'the easiest to start with', 'What is'), ('Human', 'tutorial', 'wants')]\n"
          ]
        }
      ]
    },
    {
      "cell_type": "markdown",
      "source": [
        "## Entity Memory"
      ],
      "metadata": {
        "id": "fjqlw-Q2HDLc"
      }
    },
    {
      "cell_type": "code",
      "source": [
        "from langchain import OpenAI, ConversationChain\n",
        "from langchain.chains.conversation.memory import ConversationEntityMemory\n",
        "from langchain.chains.conversation.prompt import ENTITY_MEMORY_CONVERSATION_TEMPLATE\n",
        "from pydantic import BaseModel\n",
        "from typing import List, Dict, Any"
      ],
      "metadata": {
        "id": "Ud227jNMHEtO"
      },
      "execution_count": 24,
      "outputs": []
    },
    {
      "cell_type": "code",
      "source": [
        "## The propmpt\n",
        "ENTITY_MEMORY_CONVERSATION_TEMPLATE.template"
      ],
      "metadata": {
        "colab": {
          "base_uri": "https://localhost:8080/",
          "height": 243
        },
        "id": "hWZneigxHwd0",
        "outputId": "0f5510ec-900b-4c2c-87ba-ed649a855bb6"
      },
      "execution_count": 25,
      "outputs": [
        {
          "output_type": "execute_result",
          "data": {
            "text/plain": [
              "'You are an assistant to a human, powered by a large language model trained by OpenAI.\\n\\nYou are designed to be able to assist with a wide range of tasks, from answering simple questions to providing in-depth explanations and discussions on a wide range of topics. As a language model, you are able to generate human-like text based on the input you receive, allowing you to engage in natural-sounding conversations and provide responses that are coherent and relevant to the topic at hand.\\n\\nYou are constantly learning and improving, and your capabilities are constantly evolving. You are able to process and understand large amounts of text, and can use this knowledge to provide accurate and informative responses to a wide range of questions. You have access to some personalized information provided by the human in the Context section below. Additionally, you are able to generate your own text based on the input you receive, allowing you to engage in discussions and provide explanations and descriptions on a wide range of topics.\\n\\nOverall, you are a powerful tool that can help with a wide range of tasks and provide valuable insights and information on a wide range of topics. Whether the human needs help with a specific question or just wants to have a conversation about a particular topic, you are here to assist.\\n\\nContext:\\n{entities}\\n\\nCurrent conversation:\\n{history}\\nLast line:\\nHuman: {input}\\nYou:'"
            ],
            "application/vnd.google.colaboratory.intrinsic+json": {
              "type": "string"
            }
          },
          "metadata": {},
          "execution_count": 25
        }
      ]
    },
    {
      "cell_type": "code",
      "source": [
        "llm = OpenAI(model_name='text-davinci-003',\n",
        "             temperature=0,\n",
        "             max_tokens = 256)"
      ],
      "metadata": {
        "id": "8bwvmRCtHPmD"
      },
      "execution_count": 26,
      "outputs": []
    },
    {
      "cell_type": "code",
      "source": [
        "\n",
        "conversation = ConversationChain(\n",
        "    llm=chat_gpt35,\n",
        "    verbose=True,\n",
        "    prompt=ENTITY_MEMORY_CONVERSATION_TEMPLATE,\n",
        "    memory=ConversationEntityMemory(llm=chat_gpt35)\n",
        ")"
      ],
      "metadata": {
        "id": "cXd58z9dHVxQ"
      },
      "execution_count": 27,
      "outputs": []
    },
    {
      "cell_type": "code",
      "source": [
        "conversation.predict(input=\"Hi I am Sam. My TV is broken but it is under warranty.\")"
      ],
      "metadata": {
        "colab": {
          "base_uri": "https://localhost:8080/",
          "height": 472
        },
        "id": "-PhxTkMuHWUN",
        "outputId": "f743b150-952f-4b46-fdcc-8aac092fcc1c"
      },
      "execution_count": 28,
      "outputs": [
        {
          "output_type": "stream",
          "name": "stdout",
          "text": [
            "\n",
            "\n",
            "\u001b[1m> Entering new  chain...\u001b[0m\n",
            "Prompt after formatting:\n",
            "\u001b[32;1m\u001b[1;3mYou are an assistant to a human, powered by a large language model trained by OpenAI.\n",
            "\n",
            "You are designed to be able to assist with a wide range of tasks, from answering simple questions to providing in-depth explanations and discussions on a wide range of topics. As a language model, you are able to generate human-like text based on the input you receive, allowing you to engage in natural-sounding conversations and provide responses that are coherent and relevant to the topic at hand.\n",
            "\n",
            "You are constantly learning and improving, and your capabilities are constantly evolving. You are able to process and understand large amounts of text, and can use this knowledge to provide accurate and informative responses to a wide range of questions. You have access to some personalized information provided by the human in the Context section below. Additionally, you are able to generate your own text based on the input you receive, allowing you to engage in discussions and provide explanations and descriptions on a wide range of topics.\n",
            "\n",
            "Overall, you are a powerful tool that can help with a wide range of tasks and provide valuable insights and information on a wide range of topics. Whether the human needs help with a specific question or just wants to have a conversation about a particular topic, you are here to assist.\n",
            "\n",
            "Context:\n",
            "{'Sam': '', 'TV': ''}\n",
            "\n",
            "Current conversation:\n",
            "\n",
            "Last line:\n",
            "Human: Hi I am Sam. My TV is broken but it is under warranty.\n",
            "You:\u001b[0m\n",
            "\n",
            "\u001b[1m> Finished chain.\u001b[0m\n"
          ]
        },
        {
          "output_type": "execute_result",
          "data": {
            "text/plain": [
              "\"Hello Sam! I'm sorry to hear that your TV is broken, but it's great that it's still under warranty. I'd be happy to help you with that. What seems to be the issue with your TV?\""
            ],
            "application/vnd.google.colaboratory.intrinsic+json": {
              "type": "string"
            }
          },
          "metadata": {},
          "execution_count": 28
        }
      ]
    },
    {
      "cell_type": "code",
      "source": [
        "conversation.predict(input=\"How can I get it fixed. The warranty number is A512453\")"
      ],
      "metadata": {
        "colab": {
          "base_uri": "https://localhost:8080/",
          "height": 558
        },
        "id": "Osa-NHDtJxUW",
        "outputId": "245ed533-21e2-4f8a-bf76-89208a314f7e"
      },
      "execution_count": 29,
      "outputs": [
        {
          "output_type": "stream",
          "name": "stdout",
          "text": [
            "\n",
            "\n",
            "\u001b[1m> Entering new  chain...\u001b[0m\n",
            "Prompt after formatting:\n",
            "\u001b[32;1m\u001b[1;3mYou are an assistant to a human, powered by a large language model trained by OpenAI.\n",
            "\n",
            "You are designed to be able to assist with a wide range of tasks, from answering simple questions to providing in-depth explanations and discussions on a wide range of topics. As a language model, you are able to generate human-like text based on the input you receive, allowing you to engage in natural-sounding conversations and provide responses that are coherent and relevant to the topic at hand.\n",
            "\n",
            "You are constantly learning and improving, and your capabilities are constantly evolving. You are able to process and understand large amounts of text, and can use this knowledge to provide accurate and informative responses to a wide range of questions. You have access to some personalized information provided by the human in the Context section below. Additionally, you are able to generate your own text based on the input you receive, allowing you to engage in discussions and provide explanations and descriptions on a wide range of topics.\n",
            "\n",
            "Overall, you are a powerful tool that can help with a wide range of tasks and provide valuable insights and information on a wide range of topics. Whether the human needs help with a specific question or just wants to have a conversation about a particular topic, you are here to assist.\n",
            "\n",
            "Context:\n",
            "{'A512453': ''}\n",
            "\n",
            "Current conversation:\n",
            "Human: Hi I am Sam. My TV is broken but it is under warranty.\n",
            "AI: Hello Sam! I'm sorry to hear that your TV is broken, but it's great that it's still under warranty. I'd be happy to help you with that. What seems to be the issue with your TV?\n",
            "Last line:\n",
            "Human: How can I get it fixed. The warranty number is A512453\n",
            "You:\u001b[0m\n",
            "\n",
            "\u001b[1m> Finished chain.\u001b[0m\n"
          ]
        },
        {
          "output_type": "execute_result",
          "data": {
            "text/plain": [
              "\"To get your TV fixed under warranty, you can follow these steps:\\n\\n1. Contact the manufacturer: Look for the contact information of the manufacturer of your TV. This information is usually available on their website or in the warranty documentation that came with your TV. Reach out to them and explain the issue you're experiencing with your TV.\\n\\n2. Provide warranty details: When contacting the manufacturer, make sure to provide them with the warranty number A512453. This will help them verify the warranty status of your\""
            ],
            "application/vnd.google.colaboratory.intrinsic+json": {
              "type": "string"
            }
          },
          "metadata": {},
          "execution_count": 29
        }
      ]
    },
    {
      "cell_type": "code",
      "source": [
        "conversation.memory.entity_cache"
      ],
      "metadata": {
        "id": "yKn0evo4KqnV",
        "colab": {
          "base_uri": "https://localhost:8080/"
        },
        "outputId": "3d51ca0e-c379-422a-8dc5-3170face99a1"
      },
      "execution_count": 30,
      "outputs": [
        {
          "output_type": "execute_result",
          "data": {
            "text/plain": [
              "['A512453']"
            ]
          },
          "metadata": {},
          "execution_count": 30
        }
      ]
    },
    {
      "cell_type": "code",
      "source": [
        "conversation.predict(input=\"Can you send the repair person call Dave to fix it?.\")"
      ],
      "metadata": {
        "colab": {
          "base_uri": "https://localhost:8080/",
          "height": 610
        },
        "id": "H0VpELTyJ8Hn",
        "outputId": "f7fd4da3-bed6-499e-ba08-ad203f8b942d"
      },
      "execution_count": 31,
      "outputs": [
        {
          "output_type": "stream",
          "name": "stdout",
          "text": [
            "\n",
            "\n",
            "\u001b[1m> Entering new  chain...\u001b[0m\n",
            "Prompt after formatting:\n",
            "\u001b[32;1m\u001b[1;3mYou are an assistant to a human, powered by a large language model trained by OpenAI.\n",
            "\n",
            "You are designed to be able to assist with a wide range of tasks, from answering simple questions to providing in-depth explanations and discussions on a wide range of topics. As a language model, you are able to generate human-like text based on the input you receive, allowing you to engage in natural-sounding conversations and provide responses that are coherent and relevant to the topic at hand.\n",
            "\n",
            "You are constantly learning and improving, and your capabilities are constantly evolving. You are able to process and understand large amounts of text, and can use this knowledge to provide accurate and informative responses to a wide range of questions. You have access to some personalized information provided by the human in the Context section below. Additionally, you are able to generate your own text based on the input you receive, allowing you to engage in discussions and provide explanations and descriptions on a wide range of topics.\n",
            "\n",
            "Overall, you are a powerful tool that can help with a wide range of tasks and provide valuable insights and information on a wide range of topics. Whether the human needs help with a specific question or just wants to have a conversation about a particular topic, you are here to assist.\n",
            "\n",
            "Context:\n",
            "{'Dave': ''}\n",
            "\n",
            "Current conversation:\n",
            "Human: Hi I am Sam. My TV is broken but it is under warranty.\n",
            "AI: Hello Sam! I'm sorry to hear that your TV is broken, but it's great that it's still under warranty. I'd be happy to help you with that. What seems to be the issue with your TV?\n",
            "Human: How can I get it fixed. The warranty number is A512453\n",
            "AI: To get your TV fixed under warranty, you can follow these steps:\n",
            "\n",
            "1. Contact the manufacturer: Look for the contact information of the manufacturer of your TV. This information is usually available on their website or in the warranty documentation that came with your TV. Reach out to them and explain the issue you're experiencing with your TV.\n",
            "\n",
            "2. Provide warranty details: When contacting the manufacturer, make sure to provide them with the warranty number A512453. This will help them verify the warranty status of your\n",
            "Last line:\n",
            "Human: Can you send the repair person call Dave to fix it?.\n",
            "You:\u001b[0m\n",
            "\n",
            "\u001b[1m> Finished chain.\u001b[0m\n"
          ]
        },
        {
          "output_type": "execute_result",
          "data": {
            "text/plain": [
              "\"I'm sorry, but as an AI language model, I don't have the capability to send a repair person or make phone calls. However, you can contact the manufacturer and request a repair service. They will be able to assist you further and provide information on how to schedule a repair for your TV.\""
            ],
            "application/vnd.google.colaboratory.intrinsic+json": {
              "type": "string"
            }
          },
          "metadata": {},
          "execution_count": 31
        }
      ]
    },
    {
      "cell_type": "code",
      "source": [
        "conversation.memory.entity_cache"
      ],
      "metadata": {
        "colab": {
          "base_uri": "https://localhost:8080/"
        },
        "id": "bUQxtMWVKUCe",
        "outputId": "70470a13-e834-4e10-d6aa-617a47972128"
      },
      "execution_count": 32,
      "outputs": [
        {
          "output_type": "execute_result",
          "data": {
            "text/plain": [
              "['Dave']"
            ]
          },
          "metadata": {},
          "execution_count": 32
        }
      ]
    },
    {
      "cell_type": "code",
      "source": [
        "from pprint import pprint\n",
        "pprint(conversation.memory.entity_store.store)"
      ],
      "metadata": {
        "colab": {
          "base_uri": "https://localhost:8080/"
        },
        "id": "duh46CpJKyRz",
        "outputId": "f95742c9-ea4b-4dc7-fd6d-b2671f738230"
      },
      "execution_count": 33,
      "outputs": [
        {
          "output_type": "stream",
          "name": "stdout",
          "text": [
            "{'A512453': 'The warranty number A512453 is needed to verify the warranty '\n",
            "            'status of the TV.',\n",
            " 'Dave': 'Dave is a repair person who the human wants to send to fix their TV.',\n",
            " 'Sam': \"Sam's TV is broken but it is under warranty.\",\n",
            " 'TV': 'The TV is broken but it is under warranty.'}\n"
          ]
        }
      ]
    },
    {
      "cell_type": "markdown",
      "source": [
        "# Fact extraction from article"
      ],
      "metadata": {
        "id": "5S8rMZfBZXJj"
      }
    },
    {
      "cell_type": "code",
      "source": [
        "from langchain import PromptTemplate, HuggingFaceHub, LLMChain\n",
        "\n",
        "vitalijs_new_article = \"The Detective Work: Finding the Habits. Now, imagine you’re a detective. \\\n",
        "You’ve got a notebook, and you’re trying to catch the „habit“ thief. \\\n",
        "ou write down everything you do in a day and check them off if they’re good for you, \\\n",
        "like eating veggies, or circle them if they’re not so good, like eating too many sweets. \\\n",
        "Rule 1: A habit must be visible. \\\n",
        "Making a habit „visible“ can be done in two ways: Environment Design and Mental Visibility. \\\n",
        "Environment Design: Making the cues or triggers for the habit visible in your physical environment. \\\n",
        "Mental Visibility: Making the habit a clear and conscious goal in your mind. \\\n",
        "Making the habit visible in your mental landscape. \\\n",
        "Acting upon both increases the likelihood of forming a new habit. \\\n",
        "Most of your habit triggers are subconscious, ingrained in your routine. \\\n",
        "If you don’t know the habit trigger, you can’t intervene. \\\n",
        "This can be problematic with harmful or unproductive habits. Why?\\\n",
        "You can’t take steps to replace a negative habit with a positive one. \\\n",
        "You iterate the cycle of bad, repeated negative behavior. \\\n",
        "Your harmful habits affect your physical and mental health.\"\n",
        "# build prompt template for simple question-answering\n",
        "template = \"\"\"Extract the key facts out of this text. Don't include opinions. Remove the detective metaphors. Give each fact a number and keep them short sentences. : \\n\\n {text_input}\"\"\"\n",
        "\n",
        "fact_extraction_prompt = PromptTemplate(template=template, input_variables=[\"text_input\"])\n",
        "fact_extraction_chain = LLMChain(\n",
        "    prompt = fact_extraction_prompt,\n",
        "    llm=chat_gpt35\n",
        ")\n",
        "\n",
        "facts = fact_extraction_chain.run(vitalijs_new_article)\n",
        "\n",
        "print(facts)"
      ],
      "metadata": {
        "colab": {
          "base_uri": "https://localhost:8080/"
        },
        "outputId": "56732cd1-f77c-433a-c23b-05e0c635ee91",
        "id": "hbRAw7_QWkiw"
      },
      "execution_count": 20,
      "outputs": [
        {
          "output_type": "stream",
          "name": "stdout",
          "text": [
            "1. A habit must be visible.\n",
            "2. Making a habit visible can be done through environment design and mental visibility.\n",
            "3. Most habit triggers are subconscious and ingrained in routine.\n",
            "4. Without knowing the habit trigger, it's difficult to replace negative habits.\n",
            "5. Harmful habits have a negative impact on physical and mental health.\n"
          ]
        }
      ]
    },
    {
      "cell_type": "code",
      "source": [
        "twitter_post_prompt = PromptTemplate(\n",
        "    input_variables = [\"facts\"],\n",
        "    template = \"You are an Twitter Ghostwriter. \\\n",
        "    Take the following list of facts and write a short engaging Tweet. \\\n",
        "    Explain the facts to high school graduate. \\\n",
        "    Do not use any emojis in your output. \\\n",
        "    Don't leave out key info: \\n\\n {facts}\"\n",
        ")"
      ],
      "metadata": {
        "id": "Clgmx1TYZlYW"
      },
      "execution_count": 45,
      "outputs": []
    },
    {
      "cell_type": "code",
      "source": [
        "twitter_post_chain = LLMChain(llm=chat_gpt35, prompt = twitter_post_prompt)\n",
        "\n",
        "twitter_post = twitter_post_chain.run(facts)\n",
        "\n",
        "print(twitter_post)\n",
        "len(twitter_post)"
      ],
      "metadata": {
        "colab": {
          "base_uri": "https://localhost:8080/"
        },
        "id": "w5fPTrqnaKaF",
        "outputId": "eedec34b-6c2c-49fe-8792-f360ac9cb0cd"
      },
      "execution_count": 46,
      "outputs": [
        {
          "output_type": "stream",
          "name": "stdout",
          "text": [
            "📢 Want to kick that bad habit? 🚫🙅‍♀️ Here's the secret: make it visible! ✨✍️ By designing your environment and improving mental visibility, you can finally break free! 🌟🔑 Uncover those subconscious triggers and replace the negatives with positives! Your health will thank you! 🌿💪💙 #PositiveChange #HealthyMindHealthyBody\n"
          ]
        },
        {
          "output_type": "execute_result",
          "data": {
            "text/plain": [
              "320"
            ]
          },
          "metadata": {},
          "execution_count": 46
        }
      ]
    },
    {
      "cell_type": "code",
      "source": [
        "from langchain.chains import SimpleSequentialChain, SequentialChain\n",
        "\n",
        "full_chain = SimpleSequentialChain(chains=[fact_extraction_chain, twitter_post_chain], verbose = True)\n",
        "\n",
        "response = full_chain.run(vitalijs_new_article)"
      ],
      "metadata": {
        "colab": {
          "base_uri": "https://localhost:8080/"
        },
        "id": "V5xW_UrFTvQA",
        "outputId": "288213d1-91ba-4ef4-9f4d-1eaea8759a57"
      },
      "execution_count": 51,
      "outputs": [
        {
          "output_type": "stream",
          "name": "stdout",
          "text": [
            "\n",
            "\n",
            "\u001b[1m> Entering new  chain...\u001b[0m\n",
            "\u001b[36;1m\u001b[1;3m1. A habit must be visible in order to be addressed.\n",
            "2. Making a habit visible can be done through environment design and mental visibility.\n",
            "3. Most habit triggers are subconscious and ingrained in routine.\n",
            "4. Unknown habit triggers can prevent intervention and replacement of negative habits.\n",
            "5. Harmful habits can affect physical and mental health.\u001b[0m\n",
            "\u001b[33;1m\u001b[1;3m\"🌟 Did you know that making your habits visible is key to addressing and changing them? 💡 Whether it's through environment design or mental visibility, it's crucial to identify those triggers that are often hidden in our routines. 🔄 Unconscious and ingrained, these habits can be a real challenge to detect and replace. 🚫 Beware! Ignoring unknown triggers may hinder intervention, impacting your physical and mental health. Time to shed light on those harmful habits! #HabitAwareness #PositiveChanges\"\u001b[0m\n",
            "\n",
            "\u001b[1m> Finished chain.\u001b[0m\n"
          ]
        }
      ]
    },
    {
      "cell_type": "markdown",
      "source": [
        "# API Chains"
      ],
      "metadata": {
        "id": "jXk7cMQNfc4V"
      }
    },
    {
      "cell_type": "code",
      "source": [
        "from langchain.chains.api.prompt import API_RESPONSE_PROMPT\n",
        "from langchain.chains import APIChain\n",
        "from langchain.prompts.prompt import PromptTemplate"
      ],
      "metadata": {
        "id": "FUEWCAr0ff1l"
      },
      "execution_count": 52,
      "outputs": []
    },
    {
      "cell_type": "code",
      "source": [
        "chat_gpt35 = ChatOpenAI(model_name='gpt-3.5-turbo', max_tokens=100)"
      ],
      "metadata": {
        "id": "ZQfWZTjVf1eM"
      },
      "execution_count": 53,
      "outputs": []
    },
    {
      "cell_type": "code",
      "source": [
        "from langchain.chains.api import open_meteo_docs\n",
        "\n",
        "chain_new = APIChain.from_llm_and_api_docs(chat_gpt35, open_meteo_docs.OPEN_METEO_DOCS, verbose=True)"
      ],
      "metadata": {
        "id": "XgWv4gdXf6a7"
      },
      "execution_count": 55,
      "outputs": []
    },
    {
      "cell_type": "code",
      "source": [
        "chain_new.run(\"What is the temperature like right now in Regensburg, Germany in degrees Celcius?\")"
      ],
      "metadata": {
        "colab": {
          "base_uri": "https://localhost:8080/",
          "height": 177
        },
        "id": "P6jmX51Vf_3m",
        "outputId": "9931709d-515b-4713-ef2b-9d668c451e2d"
      },
      "execution_count": 58,
      "outputs": [
        {
          "output_type": "stream",
          "name": "stdout",
          "text": [
            "\n",
            "\n",
            "\u001b[1m> Entering new  chain...\u001b[0m\n",
            "\u001b[32;1m\u001b[1;3mhttps://api.open-meteo.com/v1/forecast?latitude=49.0193&longitude=12.0975&current_weather=true&temperature_unit=celsius\u001b[0m\n",
            "\u001b[33;1m\u001b[1;3m{\"latitude\":49.02,\"longitude\":12.099998,\"generationtime_ms\":0.19693374633789062,\"utc_offset_seconds\":0,\"timezone\":\"GMT\",\"timezone_abbreviation\":\"GMT\",\"elevation\":346.0,\"current_weather\":{\"temperature\":23.8,\"windspeed\":19.7,\"winddirection\":230.0,\"weathercode\":3,\"is_day\":1,\"time\":\"2023-07-05T10:00\"}}\u001b[0m\n",
            "\n",
            "\u001b[1m> Finished chain.\u001b[0m\n"
          ]
        },
        {
          "output_type": "execute_result",
          "data": {
            "text/plain": [
              "'The current temperature in Regensburg, Germany is 23.8 degrees Celsius.'"
            ],
            "application/vnd.google.colaboratory.intrinsic+json": {
              "type": "string"
            }
          },
          "metadata": {},
          "execution_count": 58
        }
      ]
    },
    {
      "cell_type": "markdown",
      "metadata": {
        "id": "ybMkI18xfbBr"
      },
      "source": [
        "---"
      ]
    }
  ]
}